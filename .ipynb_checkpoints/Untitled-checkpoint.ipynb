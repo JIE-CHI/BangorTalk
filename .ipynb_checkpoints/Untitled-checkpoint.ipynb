{
 "cells": [
  {
   "cell_type": "code",
   "execution_count": 17,
   "id": "f43999e8",
   "metadata": {},
   "outputs": [
    {
     "name": "stdout",
     "output_type": "stream",
     "text": [
      "bien\n"
     ]
    }
   ],
   "source": [
    "from googletrans import Translator, constants\n",
    "translator = Translator()\n",
    "print(translator.translate('well',src='en',dest='es').text)"
   ]
  },
  {
   "cell_type": "code",
   "execution_count": null,
   "id": "4adfb680",
   "metadata": {},
   "outputs": [],
   "source": [
    "from googletrans import Translator, constants\n",
    "import time\n",
    "\n",
    "translator = Translator()\n",
    "corpora = ['miami']\n",
    "base_dir = '/home/jiechi/ssd_home/data/codeswitch/bangortalk'\n",
    "count = 0\n",
    "for corpus in corpora:\n",
    "    \n",
    "#     eng_text = open('./en2sp.txt', 'w', 1)\n",
    "#     with open(base_dir+'/' +corpus + 'texten') as f:\n",
    "#         for line in f:\n",
    "#             text = line.split()[1::]\n",
    "            \n",
    "#             while(1):\n",
    "                \n",
    "            \n",
    "#                 try:\n",
    "\n",
    "#                     translation = translator.translate(' '.join(text),src='en',dest='es')\n",
    "#                     eng_text.writelines(f\"{translation.origin} --> {translation.text}\\n\")\n",
    "#                     break\n",
    "#                 except TypeError:\n",
    "\n",
    "#                     print(text)\n",
    "#                     break\n",
    "#                 except AttributeError:\n",
    "#                     print(count)\n",
    "#                     time.sleep(30) \n",
    "\n",
    "#             count += 1\n",
    "\n",
    "                \n",
    "#     count = 0\n",
    "                \n",
    "#     sp_text = open('./sp2en.txt', 'w', 1)\n",
    "#     with open(base_dir+'/' +corpus + 'textsp') as f:\n",
    "#         for line in f:\n",
    "#             text = line.split()[1::]\n",
    "#             while(1):\n",
    "                \n",
    "#                 try:\n",
    "#                     translation = translator.translate(' '.join(text),src='es',dest='en')\n",
    "#                     sp_text.writelines(f\"{translation.origin} --> {translation.text}\\n\")    \n",
    "#                     break\n",
    "#                 except TypeError:\n",
    "\n",
    "#                     print(text)\n",
    "#                     break\n",
    "#                 except AttributeError:\n",
    "#                     print(count)\n",
    "#                     time.sleep(30) \n",
    "\n",
    "\n",
    "#             count += 1\n",
    "            \n",
    "    count = 0\n",
    "    cs_text = open('./cs.txt', 'w', 1)\n",
    "    with open(base_dir+'/' +corpus + 'textcs') as f:\n",
    "        for line in f:\n",
    "            text = line.split()[1::]\n",
    "            while(1):\n",
    "                try:\n",
    "                    \n",
    "                    translation1 = translator.translate(' '.join(text),src='es',dest='en')\n",
    "                    translation2 = translator.translate(' '.join(text),src='en',dest='es')\n",
    "                    cs_text.writelines(f\"{translation.origin} --> {translation1.text} --> {translation2.text}\\n\")    \n",
    "                    break\n",
    "                except TypeError:\n",
    "\n",
    "                    print(text)\n",
    "                    break\n",
    "                except AttributeError:\n",
    "                    print(count)\n",
    "                    time.sleep(30) "
   ]
  },
  {
   "cell_type": "code",
   "execution_count": null,
   "id": "49d2d6e5",
   "metadata": {},
   "outputs": [],
   "source": []
  }
 ],
 "metadata": {
  "kernelspec": {
   "display_name": "Python 3",
   "language": "python",
   "name": "python3"
  },
  "language_info": {
   "codemirror_mode": {
    "name": "ipython",
    "version": 3
   },
   "file_extension": ".py",
   "mimetype": "text/x-python",
   "name": "python",
   "nbconvert_exporter": "python",
   "pygments_lexer": "ipython3",
   "version": "3.7.3"
  }
 },
 "nbformat": 4,
 "nbformat_minor": 5
}
