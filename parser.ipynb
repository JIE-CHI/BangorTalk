{
 "cells": [
  {
   "cell_type": "code",
   "execution_count": null,
   "id": "f0ac6060",
   "metadata": {},
   "outputs": [],
   "source": [
    "from nltk.parse.corenlp import CoreNLPServer"
   ]
  },
  {
   "cell_type": "code",
   "execution_count": null,
   "id": "07bbb914",
   "metadata": {},
   "outputs": [],
   "source": [
    "y"
   ]
  },
  {
   "cell_type": "code",
   "execution_count": null,
   "id": "d3b8f6e5",
   "metadata": {},
   "outputs": [],
   "source": [
    "import os\n",
    "STANFORD = os.path.join('stanford-corenlp-4.4.0')\n",
    "\n",
    "# Create the server\n",
    "server = CoreNLPServer(\n",
    "   os.path.join(STANFORD, \"stanford-corenlp-4.4.0.jar\"),\n",
    "   os.path.join(STANFORD, \"stanford-corenlp-4.4.0-models.jar\"),    \n",
    ")\n",
    "\n",
    "# Start the server in the background\n",
    "server.start()"
   ]
  },
  {
   "cell_type": "code",
   "execution_count": null,
   "id": "395ee8ee",
   "metadata": {},
   "outputs": [],
   "source": [
    "from  nltk.parse.corenlp  import CoreNLPParser\n",
    "\n",
    "parser = CoreNLPParser()\n",
    "parsered = next(parser.raw_parse(\"I put the book in the box on the table.\"))"
   ]
  },
  {
   "cell_type": "code",
   "execution_count": null,
   "id": "4b7edbc5",
   "metadata": {},
   "outputs": [],
   "source": [
    "parsered"
   ]
  },
  {
   "cell_type": "code",
   "execution_count": null,
   "id": "4431bf99",
   "metadata": {},
   "outputs": [],
   "source": [
    "import svgling\n",
    "import cairosvg\n",
    "from nltk.tree import Tree\n",
    "\n",
    "# converts any nltk tree object to a svg\n",
    "def tree2svg(t):\n",
    "    img = svgling.draw_tree(t)\n",
    "    svg_data = img.get_svg()\n",
    "    return svg_data\n",
    "\n",
    "# read from a string and parse the tree using nltk\n",
    "t = parsered\n",
    "# convert tree to svg\n",
    "sv = tree2svg(t)\n",
    "# write the svg as an image\n",
    "cairosvg.svg2png(sv.tostring(), write_to='image.png')"
   ]
  },
  {
   "cell_type": "code",
   "execution_count": null,
   "id": "08a19264",
   "metadata": {},
   "outputs": [],
   "source": [
    "import pickle\n",
    "en_parsed = []\n",
    "with open('./cs.txt') as f:\n",
    "    for line in f:\n",
    "        ori, en, es = line.split('-->')\n",
    "        en_parsed.append(next(parser.raw_parse(en)))\n",
    "with open('cs_en', 'wb') as fp:\n",
    "    pickle.dump(en_parsed, fp)        "
   ]
  },
  {
   "cell_type": "code",
   "execution_count": null,
   "id": "f75ec852",
   "metadata": {},
   "outputs": [],
   "source": [
    "with open('cs_en', 'wb') as fp:\n",
    "    itemlist = pickle.load(fp)"
   ]
  },
  {
   "cell_type": "code",
   "execution_count": null,
   "id": "c78ba9eb",
   "metadata": {},
   "outputs": [],
   "source": [
    "import pickle\n",
    "en_parsed = []\n",
    "with open('./en2sp.txt') as f:\n",
    "    for line in f:\n",
    "        en, es = line.split('-->')\n",
    "        en_parsed.append(next(parser.raw_parse(en)))\n",
    "with open('en', 'wb') as fp:\n",
    "    pickle.dump(en_parsed, fp)      "
   ]
  },
  {
   "cell_type": "code",
   "execution_count": null,
   "id": "be6368aa",
   "metadata": {},
   "outputs": [],
   "source": [
    "import pickle\n",
    "en_parsed = []\n",
    "with open('./sp2en.txt') as f:\n",
    "    for line in f:\n",
    "        es, en = line.split('-->')\n",
    "        en_parsed.append(next(parser.raw_parse(en)))\n",
    "with open('en2', 'wb') as fp:\n",
    "    pickle.dump(en_parsed, fp)      "
   ]
  },
  {
   "cell_type": "code",
   "execution_count": null,
   "id": "14935760",
   "metadata": {},
   "outputs": [],
   "source": [
    "server.stop()"
   ]
  },
  {
   "cell_type": "code",
   "execution_count": 1,
   "id": "93542d7c",
   "metadata": {},
   "outputs": [],
   "source": [
    "from nltk.parse.corenlp import CoreNLPServer\n",
    "import os\n",
    "STANFORD = os.path.join('stanford-corenlp-4.3.2')\n",
    "\n",
    "# Create the server\n",
    "server = CoreNLPServer(\n",
    "   os.path.join(STANFORD, \"stanford-corenlp-4.3.2.jar\"),\n",
    "   os.path.join(STANFORD, \"stanford-corenlp-4.3.2-models-spanish.jar\"),    \n",
    ")\n",
    "\n",
    "# Start the server in the background\n",
    "server.start()\n",
    "from  nltk.parse.corenlp  import CoreNLPParser\n",
    "\n",
    "parser = CoreNLPParser()"
   ]
  },
  {
   "cell_type": "code",
   "execution_count": 2,
   "id": "e2d3ee0e",
   "metadata": {},
   "outputs": [
    {
     "ename": "HTTPError",
     "evalue": "500 Server Error: Internal Server Error for url: http://localhost:9000/?properties=%7B%22outputFormat%22%3A+%22json%22%2C+%22annotators%22%3A+%22tokenize%2Cpos%2Clemma%2Cssplit%2Cparse%22%2C+%22ssplit.eolonly%22%3A+%22true%22%2C+%22tokenize.whitespace%22%3A+%22false%22%7D",
     "output_type": "error",
     "traceback": [
      "\u001b[0;31m---------------------------------------------------------------------------\u001b[0m",
      "\u001b[0;31mHTTPError\u001b[0m                                 Traceback (most recent call last)",
      "\u001b[0;32m<ipython-input-2-85c3d8e05c92>\u001b[0m in \u001b[0;36m<module>\u001b[0;34m\u001b[0m\n\u001b[0;32m----> 1\u001b[0;31m \u001b[0mparsered\u001b[0m \u001b[0;34m=\u001b[0m \u001b[0mnext\u001b[0m\u001b[0;34m(\u001b[0m\u001b[0mparser\u001b[0m\u001b[0;34m.\u001b[0m\u001b[0mraw_parse\u001b[0m\u001b[0;34m(\u001b[0m\u001b[0;34m\"I put the book in the box on the table.\"\u001b[0m\u001b[0;34m)\u001b[0m\u001b[0;34m)\u001b[0m\u001b[0;34m\u001b[0m\u001b[0;34m\u001b[0m\u001b[0m\n\u001b[0m",
      "\u001b[0;32m~/workspace/espnet/tools/venv/lib/python3.7/site-packages/nltk/parse/corenlp.py\u001b[0m in \u001b[0;36mraw_parse\u001b[0;34m(self, sentence, properties, *args, **kwargs)\u001b[0m\n\u001b[1;32m    223\u001b[0m         return next(\n\u001b[1;32m    224\u001b[0m             self.raw_parse_sents(\n\u001b[0;32m--> 225\u001b[0;31m                 \u001b[0;34m[\u001b[0m\u001b[0msentence\u001b[0m\u001b[0;34m]\u001b[0m\u001b[0;34m,\u001b[0m \u001b[0mproperties\u001b[0m\u001b[0;34m=\u001b[0m\u001b[0mdefault_properties\u001b[0m\u001b[0;34m,\u001b[0m \u001b[0;34m*\u001b[0m\u001b[0margs\u001b[0m\u001b[0;34m,\u001b[0m \u001b[0;34m**\u001b[0m\u001b[0mkwargs\u001b[0m\u001b[0;34m\u001b[0m\u001b[0;34m\u001b[0m\u001b[0m\n\u001b[0m\u001b[1;32m    226\u001b[0m             )\n\u001b[1;32m    227\u001b[0m         )\n",
      "\u001b[0;32m~/workspace/espnet/tools/venv/lib/python3.7/site-packages/nltk/parse/corenlp.py\u001b[0m in \u001b[0;36mraw_parse_sents\u001b[0;34m(self, sentences, verbose, properties, *args, **kwargs)\u001b[0m\n\u001b[1;32m    279\u001b[0m                 \u001b[0;32myield\u001b[0m \u001b[0miter\u001b[0m\u001b[0;34m(\u001b[0m\u001b[0;34m[\u001b[0m\u001b[0mtree\u001b[0m\u001b[0;34m]\u001b[0m\u001b[0;34m)\u001b[0m\u001b[0;34m\u001b[0m\u001b[0;34m\u001b[0m\u001b[0m\n\u001b[1;32m    280\u001b[0m         \"\"\"\n\u001b[0;32m--> 281\u001b[0;31m         \u001b[0mparsed_data\u001b[0m \u001b[0;34m=\u001b[0m \u001b[0mself\u001b[0m\u001b[0;34m.\u001b[0m\u001b[0mapi_call\u001b[0m\u001b[0;34m(\u001b[0m\u001b[0;34m\"\\n\"\u001b[0m\u001b[0;34m.\u001b[0m\u001b[0mjoin\u001b[0m\u001b[0;34m(\u001b[0m\u001b[0msentences\u001b[0m\u001b[0;34m)\u001b[0m\u001b[0;34m,\u001b[0m \u001b[0mproperties\u001b[0m\u001b[0;34m=\u001b[0m\u001b[0mdefault_properties\u001b[0m\u001b[0;34m)\u001b[0m\u001b[0;34m\u001b[0m\u001b[0;34m\u001b[0m\u001b[0m\n\u001b[0m\u001b[1;32m    282\u001b[0m         \u001b[0;32mfor\u001b[0m \u001b[0mparsed_sent\u001b[0m \u001b[0;32min\u001b[0m \u001b[0mparsed_data\u001b[0m\u001b[0;34m[\u001b[0m\u001b[0;34m\"sentences\"\u001b[0m\u001b[0;34m]\u001b[0m\u001b[0;34m:\u001b[0m\u001b[0;34m\u001b[0m\u001b[0;34m\u001b[0m\u001b[0m\n\u001b[1;32m    283\u001b[0m             \u001b[0mtree\u001b[0m \u001b[0;34m=\u001b[0m \u001b[0mself\u001b[0m\u001b[0;34m.\u001b[0m\u001b[0mmake_tree\u001b[0m\u001b[0;34m(\u001b[0m\u001b[0mparsed_sent\u001b[0m\u001b[0;34m)\u001b[0m\u001b[0;34m\u001b[0m\u001b[0;34m\u001b[0m\u001b[0m\n",
      "\u001b[0;32m~/workspace/espnet/tools/venv/lib/python3.7/site-packages/nltk/parse/corenlp.py\u001b[0m in \u001b[0;36mapi_call\u001b[0;34m(self, data, properties, timeout)\u001b[0m\n\u001b[1;32m    245\u001b[0m         )\n\u001b[1;32m    246\u001b[0m \u001b[0;34m\u001b[0m\u001b[0m\n\u001b[0;32m--> 247\u001b[0;31m         \u001b[0mresponse\u001b[0m\u001b[0;34m.\u001b[0m\u001b[0mraise_for_status\u001b[0m\u001b[0;34m(\u001b[0m\u001b[0;34m)\u001b[0m\u001b[0;34m\u001b[0m\u001b[0;34m\u001b[0m\u001b[0m\n\u001b[0m\u001b[1;32m    248\u001b[0m \u001b[0;34m\u001b[0m\u001b[0m\n\u001b[1;32m    249\u001b[0m         \u001b[0;32mreturn\u001b[0m \u001b[0mresponse\u001b[0m\u001b[0;34m.\u001b[0m\u001b[0mjson\u001b[0m\u001b[0;34m(\u001b[0m\u001b[0;34m)\u001b[0m\u001b[0;34m\u001b[0m\u001b[0;34m\u001b[0m\u001b[0m\n",
      "\u001b[0;32m~/workspace/espnet/tools/venv/lib/python3.7/site-packages/requests/models.py\u001b[0m in \u001b[0;36mraise_for_status\u001b[0;34m(self)\u001b[0m\n\u001b[1;32m    941\u001b[0m \u001b[0;34m\u001b[0m\u001b[0m\n\u001b[1;32m    942\u001b[0m         \u001b[0;32mif\u001b[0m \u001b[0mhttp_error_msg\u001b[0m\u001b[0;34m:\u001b[0m\u001b[0;34m\u001b[0m\u001b[0;34m\u001b[0m\u001b[0m\n\u001b[0;32m--> 943\u001b[0;31m             \u001b[0;32mraise\u001b[0m \u001b[0mHTTPError\u001b[0m\u001b[0;34m(\u001b[0m\u001b[0mhttp_error_msg\u001b[0m\u001b[0;34m,\u001b[0m \u001b[0mresponse\u001b[0m\u001b[0;34m=\u001b[0m\u001b[0mself\u001b[0m\u001b[0;34m)\u001b[0m\u001b[0;34m\u001b[0m\u001b[0;34m\u001b[0m\u001b[0m\n\u001b[0m\u001b[1;32m    944\u001b[0m \u001b[0;34m\u001b[0m\u001b[0m\n\u001b[1;32m    945\u001b[0m     \u001b[0;32mdef\u001b[0m \u001b[0mclose\u001b[0m\u001b[0;34m(\u001b[0m\u001b[0mself\u001b[0m\u001b[0;34m)\u001b[0m\u001b[0;34m:\u001b[0m\u001b[0;34m\u001b[0m\u001b[0;34m\u001b[0m\u001b[0m\n",
      "\u001b[0;31mHTTPError\u001b[0m: 500 Server Error: Internal Server Error for url: http://localhost:9000/?properties=%7B%22outputFormat%22%3A+%22json%22%2C+%22annotators%22%3A+%22tokenize%2Cpos%2Clemma%2Cssplit%2Cparse%22%2C+%22ssplit.eolonly%22%3A+%22true%22%2C+%22tokenize.whitespace%22%3A+%22false%22%7D"
     ]
    }
   ],
   "source": [
    "parsered = next(parser.raw_parse(\"I put the book in the box on the table.\"))"
   ]
  },
  {
   "cell_type": "code",
   "execution_count": null,
   "id": "ecf85d42",
   "metadata": {},
   "outputs": [],
   "source": [
    "import pickle\n",
    "en_parsed = []\n",
    "with open('./cs.txt') as f:\n",
    "    for line in f:\n",
    "        ori, en, es = line.split('-->')\n",
    "        en_parsed.append(next(parser.raw_parse(es)))\n",
    "with open('cs_es', 'wb') as fp:\n",
    "    pickle.dump(en_parsed, fp)       \n",
    "\n",
    "import pickle\n",
    "en_parsed = []\n",
    "with open('./cs.txt') as f:\n",
    "    for line in f:\n",
    "        ori, en, es = line.split('-->')\n",
    "        en_parsed.append(next(parser.raw_parse(es)))\n",
    "with open('cs_es', 'wb') as fp:\n",
    "    pickle.dump(en_parsed, fp)       \n",
    "\n",
    "import pickle\n",
    "en_parsed = []\n",
    "with open('./en2sp.txt') as f:\n",
    "    for line in f:\n",
    "        en, es = line.split('-->')\n",
    "        en_parsed.append(next(parser.raw_parse(es)))\n",
    "with open('es2', 'wb') as fp:\n",
    "    pickle.dump(es_parsed, fp)      \n"
   ]
  },
  {
   "cell_type": "code",
   "execution_count": null,
   "id": "d2f1fbf6",
   "metadata": {},
   "outputs": [],
   "source": []
  }
 ],
 "metadata": {
  "kernelspec": {
   "display_name": "Python 3",
   "language": "python",
   "name": "python3"
  },
  "language_info": {
   "codemirror_mode": {
    "name": "ipython",
    "version": 3
   },
   "file_extension": ".py",
   "mimetype": "text/x-python",
   "name": "python",
   "nbconvert_exporter": "python",
   "pygments_lexer": "ipython3",
   "version": "3.7.3"
  }
 },
 "nbformat": 4,
 "nbformat_minor": 5
}
